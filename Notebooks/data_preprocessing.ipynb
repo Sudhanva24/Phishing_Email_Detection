{
 "cells": [
  {
   "cell_type": "markdown",
   "metadata": {},
   "source": [
    "## Importing Necessary Libraries"
   ]
  },
  {
   "cell_type": "code",
   "execution_count": 3,
   "metadata": {},
   "outputs": [],
   "source": [
    "import pandas as pd\n",
    "import numpy as np\n",
    "import matplotlib.pyplot as plt\n",
    "import seaborn as sns\n",
    "import nltk\n",
    "import spacy\n"
   ]
  },
  {
   "cell_type": "markdown",
   "metadata": {},
   "source": [
    "## Look of the Data"
   ]
  },
  {
   "cell_type": "code",
   "execution_count": 4,
   "metadata": {},
   "outputs": [],
   "source": [
    "df=pd.read_csv('../Data/Phishing_Email.csv')"
   ]
  },
  {
   "cell_type": "code",
   "execution_count": 5,
   "metadata": {},
   "outputs": [
    {
     "data": {
      "text/html": [
       "<div>\n",
       "<style scoped>\n",
       "    .dataframe tbody tr th:only-of-type {\n",
       "        vertical-align: middle;\n",
       "    }\n",
       "\n",
       "    .dataframe tbody tr th {\n",
       "        vertical-align: top;\n",
       "    }\n",
       "\n",
       "    .dataframe thead th {\n",
       "        text-align: right;\n",
       "    }\n",
       "</style>\n",
       "<table border=\"1\" class=\"dataframe\">\n",
       "  <thead>\n",
       "    <tr style=\"text-align: right;\">\n",
       "      <th></th>\n",
       "      <th>Unnamed: 0</th>\n",
       "      <th>Email Text</th>\n",
       "      <th>Email Type</th>\n",
       "    </tr>\n",
       "  </thead>\n",
       "  <tbody>\n",
       "    <tr>\n",
       "      <th>0</th>\n",
       "      <td>0</td>\n",
       "      <td>re : 6 . 1100 , disc : uniformitarianism , re ...</td>\n",
       "      <td>Safe Email</td>\n",
       "    </tr>\n",
       "    <tr>\n",
       "      <th>1</th>\n",
       "      <td>1</td>\n",
       "      <td>the other side of * galicismos * * galicismo *...</td>\n",
       "      <td>Safe Email</td>\n",
       "    </tr>\n",
       "    <tr>\n",
       "      <th>2</th>\n",
       "      <td>2</td>\n",
       "      <td>re : equistar deal tickets are you still avail...</td>\n",
       "      <td>Safe Email</td>\n",
       "    </tr>\n",
       "    <tr>\n",
       "      <th>3</th>\n",
       "      <td>3</td>\n",
       "      <td>\\nHello I am your hot lil horny toy.\\n    I am...</td>\n",
       "      <td>Phishing Email</td>\n",
       "    </tr>\n",
       "    <tr>\n",
       "      <th>4</th>\n",
       "      <td>4</td>\n",
       "      <td>software at incredibly low prices ( 86 % lower...</td>\n",
       "      <td>Phishing Email</td>\n",
       "    </tr>\n",
       "  </tbody>\n",
       "</table>\n",
       "</div>"
      ],
      "text/plain": [
       "   Unnamed: 0                                         Email Text  \\\n",
       "0           0  re : 6 . 1100 , disc : uniformitarianism , re ...   \n",
       "1           1  the other side of * galicismos * * galicismo *...   \n",
       "2           2  re : equistar deal tickets are you still avail...   \n",
       "3           3  \\nHello I am your hot lil horny toy.\\n    I am...   \n",
       "4           4  software at incredibly low prices ( 86 % lower...   \n",
       "\n",
       "       Email Type  \n",
       "0      Safe Email  \n",
       "1      Safe Email  \n",
       "2      Safe Email  \n",
       "3  Phishing Email  \n",
       "4  Phishing Email  "
      ]
     },
     "execution_count": 5,
     "metadata": {},
     "output_type": "execute_result"
    }
   ],
   "source": [
    "df.head()"
   ]
  },
  {
   "cell_type": "code",
   "execution_count": 6,
   "metadata": {},
   "outputs": [],
   "source": [
    "df.drop(columns=['Unnamed: 0'],inplace=True)"
   ]
  },
  {
   "cell_type": "code",
   "execution_count": 7,
   "metadata": {},
   "outputs": [
    {
     "name": "stdout",
     "output_type": "stream",
     "text": [
      "<class 'pandas.core.frame.DataFrame'>\n",
      "RangeIndex: 18650 entries, 0 to 18649\n",
      "Data columns (total 2 columns):\n",
      " #   Column      Non-Null Count  Dtype \n",
      "---  ------      --------------  ----- \n",
      " 0   Email Text  18634 non-null  object\n",
      " 1   Email Type  18650 non-null  object\n",
      "dtypes: object(2)\n",
      "memory usage: 291.5+ KB\n"
     ]
    }
   ],
   "source": [
    "df.info()"
   ]
  },
  {
   "cell_type": "code",
   "execution_count": 8,
   "metadata": {},
   "outputs": [
    {
     "data": {
      "text/plain": [
       "Index(['Email Text', 'Email Type'], dtype='object')"
      ]
     },
     "execution_count": 8,
     "metadata": {},
     "output_type": "execute_result"
    }
   ],
   "source": [
    "df.columns\n"
   ]
  },
  {
   "cell_type": "code",
   "execution_count": 9,
   "metadata": {},
   "outputs": [
    {
     "data": {
      "text/plain": [
       "'mobil beaumont - marol just want to confirm the march midcon volumes for mobil : 3 / 21 28 , 271 3 / 22 26 , 221 3 / 23 24 , 459 3 / 24 30 , 000 3 / 25 30 , 000 3 / 26 26 , 852 3 / 27 30 , 000 3 / 28 30 , 000 3 / 29 30 , 000 3 / 30 20 , 164 3 / 31 12 , 365 total 288 , 332 mmbtu this is what i saw in pops - please let me know if there should be any different volumes / days . thanks for your help . rebecca - - - - - - - - - - - - - - - - - - - - - - forwarded by rebecca griffin / na / enron on 04 / 02 / 2001 10 : 49 am - - - - - - - - - - - - - - - - - - - - - - - - - - - from : lee l papayoti @ ect on 03 / 21 / 2001 01 : 58 pm to : rebecca griffin / na / enron @ enron cc : daren j farmer / hou / ect @ ect subject : mobil beaumont - marol rebecca for mobil in march , beginning on march 21 , hpl started delivering 30 , 000 / d for midcon ( just like we did in dec and jan , and maybe in feb too ) check with daren farmer when you get ready to do the flash invoice on the first to confirm the midcon volume amounts and dates thanks ! ! ! ! ! lee'"
      ]
     },
     "execution_count": 9,
     "metadata": {},
     "output_type": "execute_result"
    }
   ],
   "source": [
    "# give me an example of 23rd element in the Email_Text column\n",
    "df.iloc[34,0]"
   ]
  },
  {
   "cell_type": "code",
   "execution_count": 10,
   "metadata": {},
   "outputs": [],
   "source": [
    "#rename the columns to mail and type\n",
    "df.rename(columns={'Email Text':'mail','Email Type':'type'},inplace=True)\n"
   ]
  },
  {
   "cell_type": "code",
   "execution_count": 11,
   "metadata": {},
   "outputs": [
    {
     "data": {
      "text/html": [
       "<div>\n",
       "<style scoped>\n",
       "    .dataframe tbody tr th:only-of-type {\n",
       "        vertical-align: middle;\n",
       "    }\n",
       "\n",
       "    .dataframe tbody tr th {\n",
       "        vertical-align: top;\n",
       "    }\n",
       "\n",
       "    .dataframe thead th {\n",
       "        text-align: right;\n",
       "    }\n",
       "</style>\n",
       "<table border=\"1\" class=\"dataframe\">\n",
       "  <thead>\n",
       "    <tr style=\"text-align: right;\">\n",
       "      <th></th>\n",
       "      <th>mail</th>\n",
       "      <th>type</th>\n",
       "    </tr>\n",
       "  </thead>\n",
       "  <tbody>\n",
       "    <tr>\n",
       "      <th>0</th>\n",
       "      <td>re : 6 . 1100 , disc : uniformitarianism , re ...</td>\n",
       "      <td>Safe Email</td>\n",
       "    </tr>\n",
       "    <tr>\n",
       "      <th>1</th>\n",
       "      <td>the other side of * galicismos * * galicismo *...</td>\n",
       "      <td>Safe Email</td>\n",
       "    </tr>\n",
       "    <tr>\n",
       "      <th>2</th>\n",
       "      <td>re : equistar deal tickets are you still avail...</td>\n",
       "      <td>Safe Email</td>\n",
       "    </tr>\n",
       "    <tr>\n",
       "      <th>3</th>\n",
       "      <td>\\nHello I am your hot lil horny toy.\\n    I am...</td>\n",
       "      <td>Phishing Email</td>\n",
       "    </tr>\n",
       "    <tr>\n",
       "      <th>4</th>\n",
       "      <td>software at incredibly low prices ( 86 % lower...</td>\n",
       "      <td>Phishing Email</td>\n",
       "    </tr>\n",
       "    <tr>\n",
       "      <th>...</th>\n",
       "      <td>...</td>\n",
       "      <td>...</td>\n",
       "    </tr>\n",
       "    <tr>\n",
       "      <th>18645</th>\n",
       "      <td>date a lonely housewife always wanted to date ...</td>\n",
       "      <td>Phishing Email</td>\n",
       "    </tr>\n",
       "    <tr>\n",
       "      <th>18646</th>\n",
       "      <td>request submitted : access request for anita ....</td>\n",
       "      <td>Safe Email</td>\n",
       "    </tr>\n",
       "    <tr>\n",
       "      <th>18647</th>\n",
       "      <td>re : important - prc mtg hi dorn &amp; john , as y...</td>\n",
       "      <td>Safe Email</td>\n",
       "    </tr>\n",
       "    <tr>\n",
       "      <th>18648</th>\n",
       "      <td>press clippings - letter on californian utilit...</td>\n",
       "      <td>Safe Email</td>\n",
       "    </tr>\n",
       "    <tr>\n",
       "      <th>18649</th>\n",
       "      <td>empty</td>\n",
       "      <td>Phishing Email</td>\n",
       "    </tr>\n",
       "  </tbody>\n",
       "</table>\n",
       "<p>18650 rows × 2 columns</p>\n",
       "</div>"
      ],
      "text/plain": [
       "                                                    mail            type\n",
       "0      re : 6 . 1100 , disc : uniformitarianism , re ...      Safe Email\n",
       "1      the other side of * galicismos * * galicismo *...      Safe Email\n",
       "2      re : equistar deal tickets are you still avail...      Safe Email\n",
       "3      \\nHello I am your hot lil horny toy.\\n    I am...  Phishing Email\n",
       "4      software at incredibly low prices ( 86 % lower...  Phishing Email\n",
       "...                                                  ...             ...\n",
       "18645  date a lonely housewife always wanted to date ...  Phishing Email\n",
       "18646  request submitted : access request for anita ....      Safe Email\n",
       "18647  re : important - prc mtg hi dorn & john , as y...      Safe Email\n",
       "18648  press clippings - letter on californian utilit...      Safe Email\n",
       "18649                                              empty  Phishing Email\n",
       "\n",
       "[18650 rows x 2 columns]"
      ]
     },
     "execution_count": 11,
     "metadata": {},
     "output_type": "execute_result"
    }
   ],
   "source": [
    "df"
   ]
  },
  {
   "cell_type": "code",
   "execution_count": 12,
   "metadata": {},
   "outputs": [
    {
     "name": "stdout",
     "output_type": "stream",
     "text": [
      "===== RANDOM EMAIL SAMPLES =====\n",
      "\n",
      "Email #1\n",
      "--------------------------------------------------\n",
      "A great sponsor will not make you money.\n",
      "A great product line will not make you money either.\n",
      "A great compensation plan will not make you money either.\n",
      "A great company will not make you money either.Some say it's a combination of the above.\n",
      "Some say it's what's inside you that matters the most.Forget about meetings, one-on-one, 3-ways calls, etc.\n",
      "Those old ways of network marketing has come and gone.\n",
      "They wear you out long before you make any money.What makes you money is a downline associated with a\n",
      "stable company that has consumable products.Where's the downline coming from?  Well, we have an\n",
      "online automatic recruiting system that does the work\n",
      "for you.  Our system will place paying members in \n",
      "your downline.Furthermore, you can see it working first hand before\n",
      "you decide what to do, if any.For more info on this simple but powerful recruiting system \n",
      "please click here and send a blank message\n",
      "We belong to the same opt-in list. But if you wish to have your email\n",
      "address REMOVE from our database please click here\n",
      "\n",
      "==================================================\n",
      "\n",
      "Email #2\n",
      "--------------------------------------------------\n",
      "On Pungenday, the 9th day of Bureaucracy, Padraig Brady confessed:\n",
      "> How can I repeat a string an arbitrary number\n",
      "> of times in bash/sed/...\n",
      ">\n",
      "> I.E. I'm missing the repeat in the following:\n",
      ">\n",
      "> STRING=\"> \"\n",
      "> NUMBER=3\n",
      "> PREFIX=repeat $STRING $NUMBER\n",
      "> echo $PREFIX\n",
      "> > > >\n",
      "perl ?  STRING=\"> \"\n",
      "  NUMBER=3\n",
      "  PREFIX=`perl -e \"print '$STRING' x $NUMBER;\"`\n",
      "  echo $PREFIXI'm pretty sure the bsd 'jot' utility can do this too, but I don't\n",
      "have it to hand.-kev-- \n",
      "Irish Linux Users' Group: ilug@linux.ie\n",
      "http://www.linux.ie/mailman/listinfo/ilug for (un)subscription information.\n",
      "List maintainer: listmaster@linux.ie\n",
      "\n",
      "==================================================\n",
      "\n",
      "Email #3\n",
      "--------------------------------------------------\n",
      "URL: e59c6ca5938fc27a6995e30fc10b6482\n",
      "Date: Not suppliedIt came out a while ago, but Ben Hammersley reviewed AmphetaDesk and a few \n",
      "other free aggregators in his Guardian article, Working the web: Newsreaders[1]\n",
      ". In more timely news, OSDir[2], a repository of \"stable, open source apps\", \n",
      "has reviewed AmphetaDesk[3] and labels it an 'OSDir.com preferred' app. They \n",
      "also give you the ability to rate AmphetaDesk[4] on a scale of 1-10. You can \n",
      "see the current rating here[5].[1] http://www.guardian.co.uk/online/story/0,3605,781838,00.html\n",
      "[2] http://www.osdir.com/\n",
      "[3] http://osdir.com/modules.php?op=modload&name=News&file=article&sid=34&mode=thread&order=0&thold=0\n",
      "[4] http://osdir.com/modules.php?op=modload&name=Downloads&file=index&req=ratedownload&lid=28&ttitle=%3Ch3%3EShow%20Your%20Support%20for%20Amphetadesk%3C/h3%3E\n",
      "    %3Ch3%3EShow%20Your%20Support%20for%20Amphetadesk%3C/h3%3E\"\n",
      "[5] http://osdir.com/modules.php?op=modload&name=Downloads&file=index&req=viewdownloaddetails&lid=28&ttitle=AmphetaDesk\n",
      "    AmphetaDesk\"\n",
      "\n",
      "==================================================\n",
      "\n",
      "Email #4\n",
      "--------------------------------------------------\n",
      "\" de dag . proceedings of the workshop on definites \" \" de dag . proceedings of the workshop on definites \" edited by paul dekker , jaap van der does , helen de hoop * * * this collection of original papers on definites presents current research from the netherlands . definiteness , one of the central topics in linguistic research , remains an intriguing subject with many issues unresolved . many of the papers in this collection do not only contribute to the characterization of definites in one particular area of language or logic : they also shed light on issues of the interfaces between semantics , pragmatics , syntax and processing . a quick reminder of the semantic characteristics of ( in ) definites is added to the introduction by jaap van der does . paul dekker 's paper studies the semantics and pragmatics of the referential interpretation of definites and the specific interpretation of indefinites , using notions of information from dynamic semantic theory . differences in syntactic behaviour ( in particular with respect to scrambling ) between definites and indefinites are studied in relation to their semantic properties by helen de hoop . edith kaan shows that the processing mechanism is not only driven by structure but also sensitive to the ( in ) definiteness of the np involved . a new version of van der sandt 's presuppositions-as - anaphors theory is presented by emiel krahmer and kees van deemter , dealing particularly well with partial match phenomena between anaphoric and antecedent nps . manuela pinto focuses on the syntactic licensing and interpretation of definite inverted subjects in italian . an extension of the study of ( in ) definites to the domain of temporal measuring nouns is provided by henk verkuyl . in the last paper of the volume , yoad winter presents an analysis of unary distributivity to account for the seemingly polyadic effects in sentences with multiple occurrences of plural definites . * * * copy 's of \" de dag . proceedings of the workshop on definites \" cost dfl . 20 , - for members of lot and dfl . 25 , - for others , and are available from the utrecht institute of linguistics ots . if you would like to order a copy , please send an e-mail ( with your name and ( e-mail ) address ) to uil-ots @ let . ruu . nl .\n",
      "\n",
      "==================================================\n",
      "\n",
      "Email #5\n",
      "--------------------------------------------------\n",
      "conf on maritime terminology dear colleague , next year , the brussels - based college for interpreters and translators ( isti ) is hosting the first international conference on maritime terminology . the conference is intended to provide a forum for scholars , experts and professionals to present their views and exchange ideas on a shared interest . for more details , please visit our special website at http : / / www . refer . fr / termisti / nauterm / nauten . htm . i should appreciate it if you could provide a link-up in your website . furthermore , if you know of any other organization or institution that should be alerted to the conference please drop me an email . i look forward to hearing from you ! yours sincerely , marc van campenhoudt - - - - - - - - - - - - - - - - - - - - - - - - - - - - - - - - - - - - - - - - - - - - - - - - - - - - - - - - - - - - prof . dr . marc van campenhoudt centre de recherche termisti institut superieur de traducteurs et interpretes ( isti ) 34 , rue joseph hazard b-1180 brussels belgium t = e9l . : + 32 . 2 . 346 . 26 . 41 fax : + 32 . 2 . 346 . 21 . 34 marc . van . campenhoudt @ euronet . be termisti @ euronet . be http : / / www . refer . fr / termisti / termisti . htm iii iiiiiiiiiiiii iiiiiiiiiiiiiii iii iii iii iii iii iii iii iii iiiiiiiiiiiii iii iii iii iii iii iii iii iii iii iii iii iiiiiiiiiiiii iii iii\n",
      "\n",
      "==================================================\n",
      "\n"
     ]
    }
   ],
   "source": [
    "# Get 5 random samples and print them in a nice format\n",
    "print(\"===== RANDOM EMAIL SAMPLES =====\\n\")\n",
    "for i, email in enumerate(df['mail'].sample(n=5), 1):\n",
    "    print(f\"Email #{i}\")\n",
    "    print(\"-\" * 50)\n",
    "    print(email.strip())\n",
    "    print(\"\\n\" + \"=\" * 50 + \"\\n\")"
   ]
  },
  {
   "cell_type": "code",
   "execution_count": 13,
   "metadata": {},
   "outputs": [
    {
     "name": "stdout",
     "output_type": "stream",
     "text": [
      "Training set size: 14920\n",
      "Validation set size: 1865\n",
      "Test set size: 1865\n"
     ]
    }
   ],
   "source": [
    "from sklearn.model_selection import train_test_split\n",
    "# First split into train and temp (80-20)\n",
    "X_train_temp, X_temp, y_train_temp, y_temp = train_test_split(\n",
    "    df['mail'], \n",
    "    df['type'],\n",
    "    test_size=0.2,\n",
    "    random_state=42,\n",
    "    stratify=df['type']\n",
    ")\n",
    "\n",
    "# Split temp into validation and test (50-50, which is 10-10 of original)\n",
    "X_valid, X_test, y_valid, y_test = train_test_split(\n",
    "    X_temp,\n",
    "    y_temp, \n",
    "    test_size=0.5,\n",
    "    random_state=42,\n",
    "    stratify=y_temp\n",
    ")\n",
    "\n",
    "# Print the shapes to verify split ratios\n",
    "print(\"Training set size:\", len(X_train_temp))\n",
    "print(\"Validation set size:\", len(X_valid))\n",
    "print(\"Test set size:\", len(X_test))\n"
   ]
  },
  {
   "cell_type": "code",
   "execution_count": 14,
   "metadata": {},
   "outputs": [
    {
     "name": "stdout",
     "output_type": "stream",
     "text": [
      "Data splits exported successfully to CSV files in the data folder\n"
     ]
    }
   ],
   "source": [
    "# Create DataFrames for each split\n",
    "train_df = pd.DataFrame({'mail': X_train_temp, 'type': y_train_temp})\n",
    "valid_df = pd.DataFrame({'mail': X_valid, 'type': y_valid}) \n",
    "test_df = pd.DataFrame({'mail': X_test, 'type': y_test})\n",
    "\n",
    "# Export to CSV files\n",
    "train_df.to_csv('../data/train.csv', index=False)\n",
    "valid_df.to_csv('../data/val.csv', index=False)\n",
    "test_df.to_csv('../data/test.csv', index=False)\n",
    "\n",
    "print(\"Data splits exported successfully to CSV files in the data folder\")\n"
   ]
  },
  {
   "cell_type": "code",
   "execution_count": null,
   "metadata": {},
   "outputs": [],
   "source": []
  }
 ],
 "metadata": {
  "kernelspec": {
   "display_name": "phishing",
   "language": "python",
   "name": "python3"
  },
  "language_info": {
   "codemirror_mode": {
    "name": "ipython",
    "version": 3
   },
   "file_extension": ".py",
   "mimetype": "text/x-python",
   "name": "python",
   "nbconvert_exporter": "python",
   "pygments_lexer": "ipython3",
   "version": "3.12.7"
  }
 },
 "nbformat": 4,
 "nbformat_minor": 2
}
